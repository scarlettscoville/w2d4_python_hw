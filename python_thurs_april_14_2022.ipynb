{
 "cells": [
  {
   "cell_type": "markdown",
   "metadata": {},
   "source": [
    "# Object-Oriented-Programming (OOP)"
   ]
  },
  {
   "cell_type": "markdown",
   "metadata": {},
   "source": [
    "## Tasks Today:\n",
    "\n",
    "   \n",
    "\n",
    "1) <b>Creating a Class (Initializing/Declaring)</b> <br>\n",
    "2) <b>Using a Class (Instantiating)</b> <br>\n",
    " &nbsp;&nbsp;&nbsp;&nbsp; a) Creating One Instance <br>\n",
    " &nbsp;&nbsp;&nbsp;&nbsp; b) Creating Multiple Instances <br>\n",
    " &nbsp;&nbsp;&nbsp;&nbsp; c) In-Class Exercise #1 - Create a Class 'Car' and instantiate three different makes of cars <br>\n",
    "3) <b>The \\__init\\__() Method</b> <br>\n",
    " &nbsp;&nbsp;&nbsp;&nbsp; a) The 'self' Attribute <br>\n",
    "4) <b>Class Attributes</b> <br>\n",
    " &nbsp;&nbsp;&nbsp;&nbsp; a) Initializing Attributes <br>\n",
    " &nbsp;&nbsp;&nbsp;&nbsp; b) Setting an Attribute Outside of the \\__init\\__() Method <br>\n",
    " &nbsp;&nbsp;&nbsp;&nbsp; c) Setting Defaults for Attributes <br>\n",
    " &nbsp;&nbsp;&nbsp;&nbsp; d) Accessing Class Attributes <br>\n",
    " &nbsp;&nbsp;&nbsp;&nbsp; e) Changing Class Attributes <br>\n",
    " &nbsp;&nbsp;&nbsp;&nbsp; f) In-Class Exercise #2 - Add a color and wheels attribute to your 'Car' class <br>\n",
    "5) <b>Class Methods</b> <br>\n",
    " &nbsp;&nbsp;&nbsp;&nbsp; a) Creating <br>\n",
    " &nbsp;&nbsp;&nbsp;&nbsp; b) Calling <br>\n",
    " &nbsp;&nbsp;&nbsp;&nbsp; c) Modifying an Attribute's Value Through a Method <br>\n",
    " &nbsp;&nbsp;&nbsp;&nbsp; d) Incrementing an Attribute's Value Through a Method <br>\n",
    " &nbsp;&nbsp;&nbsp;&nbsp; e) In-Class Exercise #3 - Add a method that prints the cars color and wheel number, then call them <br>\n",
    "6) <b>Inheritance</b> <br>\n",
    " &nbsp;&nbsp;&nbsp;&nbsp; a) Syntax for Inheriting from a Parent Class <br>\n",
    " &nbsp;&nbsp;&nbsp;&nbsp; b) The \\__init\\__() Method for a Child Class (super()) <br>\n",
    " &nbsp;&nbsp;&nbsp;&nbsp; c) Defining Attributes and Methods for the Child Class <br>\n",
    " &nbsp;&nbsp;&nbsp;&nbsp; d) Method Overriding <br>\n",
    " &nbsp;&nbsp;&nbsp;&nbsp; e) In-Class Exercise #4 - Create a class 'Ford' that inherits from 'Car' class and initialize it as a Blue Ford Explorer with 4 wheels using the super() method <br>\n",
    "7) <b>Classes as Attributes</b> <br>\n",
    "8) <b>Exercises</b> <br>\n",
    " &nbsp;&nbsp;&nbsp;&nbsp; a) Exercise #1 - Turn the shopping cart program from yesterday into an object-oriented program <br>"
   ]
  },
  {
   "cell_type": "code",
   "execution_count": 1,
   "metadata": {},
   "outputs": [
    {
     "data": {
      "text/plain": [
       "['Hey', 'Guys', 'The', 'class', 'is', 'long', 'and', 'kind', 'of', 'dull']"
      ]
     },
     "execution_count": 1,
     "metadata": {},
     "output_type": "execute_result"
    }
   ],
   "source": [
    "my_string = \"Hey Guys The class is long and kind of dull\"\n",
    "my_string.split()"
   ]
  },
  {
   "cell_type": "code",
   "execution_count": 2,
   "metadata": {},
   "outputs": [
    {
     "data": {
      "text/plain": [
       "['Hey Guy', ' The cla', '', ' i', ' long and kind of dull']"
      ]
     },
     "execution_count": 2,
     "metadata": {},
     "output_type": "execute_result"
    }
   ],
   "source": [
    "my_string = \"Hey Guys The class is long and kind of dull\"\n",
    "my_string.split('s')"
   ]
  },
  {
   "cell_type": "code",
   "execution_count": 3,
   "metadata": {},
   "outputs": [
    {
     "data": {
      "text/plain": [
       "'H + e + y +   + G + u + y + s +   + T + h + e +   + c + l + a + s + s +   + i + s +   + l + o + n + g +   + a + n + d +   + k + i + n + d +   + o + f +   + d + u + l + l'"
      ]
     },
     "execution_count": 3,
     "metadata": {},
     "output_type": "execute_result"
    }
   ],
   "source": [
    "\" + \".join(my_string)"
   ]
  },
  {
   "cell_type": "markdown",
   "metadata": {},
   "source": [
    "### Shopping Cart Assignment Example"
   ]
  },
  {
   "cell_type": "code",
   "execution_count": 2,
   "metadata": {
    "scrolled": true
   },
   "outputs": [
    {
     "name": "stdout",
     "output_type": "stream",
     "text": [
      "your cart contains:\n",
      "lettuce\n",
      "Thanks for shopping\n"
     ]
    }
   ],
   "source": [
    "from IPython.display import clear_output\n",
    "\n",
    "# Create a global list\n",
    "cart = []\n",
    "\n",
    "def show_cart():\n",
    "    clear_output()\n",
    "    print(\"your cart contains:\")\n",
    "    for item in cart:\n",
    "        print(item)\n",
    "\n",
    "def add_item(item):\n",
    "    clear_output()\n",
    "    cart.append(item)\n",
    "    print(f\"{item} was added to your cart\")\n",
    "    \n",
    "def remove_item(item):\n",
    "    clear_output()\n",
    "    cart.remove(item)\n",
    "    print(f\"{item} was removed to your cart\")\n",
    "    \n",
    "def clear_cart():\n",
    "    clear_output()\n",
    "    cart.clear()\n",
    "    print(\"your cart is empty\")\n",
    "\n",
    "def shopping_cart():\n",
    "    while True:\n",
    "        response = input(\"What would you like to do? you can: quit/ add/ remove/ show or clear.  Only type one response \\n\")\n",
    "        if response.lower() == \"quit\":\n",
    "            show_cart()\n",
    "            print(\"Thanks for shopping\")\n",
    "            break\n",
    "        elif response.lower()== 'add':\n",
    "            item = input(\"What would you like to add? \")\n",
    "            add_item(item)\n",
    "        elif response.lower() == 'remove':\n",
    "            show_cart()\n",
    "            item = input(\"What item would you like to remove?\")\n",
    "            remove_item(item)\n",
    "        elif response.lower() == 'show':\n",
    "            show_cart()\n",
    "        elif response.lower() == 'clear':\n",
    "            clear_cart()\n",
    "        else:\n",
    "            print(\"Say that not a valid option you moron read the directions!\")\n",
    "\n",
    "shopping_cart() "
   ]
  },
  {
   "cell_type": "code",
   "execution_count": 5,
   "metadata": {},
   "outputs": [
    {
     "name": "stdout",
     "output_type": "stream",
     "text": [
      "They are playing football.\n",
      "They are playing soccer.\n"
     ]
    }
   ],
   "source": [
    "alex = {\n",
    "    'name' : \"Alex\",\n",
    "    'weight' : 190,\n",
    "    'age' : 'old',\n",
    "    'activity' : 'soccer'\n",
    "}\n",
    "patrick = {\n",
    "    'name' : \"Patrick\",\n",
    "    'weight' : 140,\n",
    "    'age' : 65,\n",
    "    'activity' : 'football'\n",
    "}\n",
    "\n",
    "def do_activity(person):\n",
    "    if person['activity'] == 'football':\n",
    "        print(\"They are playing football.\")\n",
    "    if person['activity'] == 'soccer':\n",
    "        print(\"They are playing soccer.\")\n",
    "        \n",
    "do_activity(patrick)\n",
    "do_activity(alex)"
   ]
  },
  {
   "cell_type": "markdown",
   "metadata": {},
   "source": [
    "## Creating a Class (Initializing/Declaring)\n",
    "<p>When creating a class, function, or even a variable you are initializing that object. Initializing and Declaring occur at the same time in Python, whereas in lower level languages you have to declare an object before initializing it. This is the first step in the process of using a class.</p>"
   ]
  },
  {
   "cell_type": "code",
   "execution_count": 4,
   "metadata": {},
   "outputs": [],
   "source": [
    "class Car(): #IMPORTANT: USE PascalCase for class names, NOT snake_case my_new_class <--no do this--> MyNewClass\n",
    "    wheels = 4\n",
    "    color = \"blue\""
   ]
  },
  {
   "cell_type": "markdown",
   "metadata": {},
   "source": [
    "## Using a Class (Instantiating)\n",
    "<p>The process of creating a class is called <i>Instantiating</i>. Each time you create a variable of that type of class, it is referred to as an <i>Instance</i> of that class. This is the second step in the process of using a class.</p>"
   ]
  },
  {
   "cell_type": "markdown",
   "metadata": {},
   "source": [
    "##### Creating One Instance"
   ]
  },
  {
   "cell_type": "code",
   "execution_count": 6,
   "metadata": {},
   "outputs": [
    {
     "ename": "NameError",
     "evalue": "name 'Car' is not defined",
     "output_type": "error",
     "traceback": [
      "\u001b[1;31m---------------------------------------------------------------------------\u001b[0m",
      "\u001b[1;31mNameError\u001b[0m                                 Traceback (most recent call last)",
      "\u001b[1;32m~\\AppData\\Local\\Temp/ipykernel_11344/1137570324.py\u001b[0m in \u001b[0;36m<module>\u001b[1;34m\u001b[0m\n\u001b[1;32m----> 1\u001b[1;33m \u001b[0mford\u001b[0m \u001b[1;33m=\u001b[0m \u001b[0mCar\u001b[0m\u001b[1;33m(\u001b[0m\u001b[1;33m)\u001b[0m\u001b[1;33m\u001b[0m\u001b[1;33m\u001b[0m\u001b[0m\n\u001b[0m\u001b[0;32m      2\u001b[0m \u001b[0mford\u001b[0m\u001b[1;33m\u001b[0m\u001b[1;33m\u001b[0m\u001b[0m\n",
      "\u001b[1;31mNameError\u001b[0m: name 'Car' is not defined"
     ]
    }
   ],
   "source": [
    "ford = Car()\n",
    "ford"
   ]
  },
  {
   "cell_type": "code",
   "execution_count": null,
   "metadata": {},
   "outputs": [],
   "source": [
    "ford.wheels"
   ]
  },
  {
   "cell_type": "code",
   "execution_count": null,
   "metadata": {},
   "outputs": [],
   "source": [
    "ford.color"
   ]
  },
  {
   "cell_type": "markdown",
   "metadata": {},
   "source": [
    "##### Creating Multiple Instances"
   ]
  },
  {
   "cell_type": "code",
   "execution_count": 8,
   "metadata": {},
   "outputs": [
    {
     "name": "stdout",
     "output_type": "stream",
     "text": [
      "blue\n",
      "blue\n",
      "4\n",
      "4\n"
     ]
    }
   ],
   "source": [
    "chevy = Car()\n",
    "honda = Car()\n",
    "porsche = Car()\n",
    "\n",
    "print(chevy.color)\n",
    "print(honda.color)\n",
    "print(honda.wheels)\n",
    "print(porsche.wheels)"
   ]
  },
  {
   "cell_type": "markdown",
   "metadata": {},
   "source": [
    "##### In-Class Exercise #1 - Create a Class 'Car' and Instantiate three different makes of cars"
   ]
  },
  {
   "cell_type": "code",
   "execution_count": 27,
   "metadata": {},
   "outputs": [
    {
     "name": "stdout",
     "output_type": "stream",
     "text": [
      "gas\n",
      "88 Miles per hour Marty!\n"
     ]
    }
   ],
   "source": [
    "# 4 different attributes\n",
    "\n",
    "class Car():\n",
    "    color = \"red\"\n",
    "    wheels = 4\n",
    "    fuel = \"gas\"\n",
    "    go = \"it will go-go\"\n",
    "\n",
    "toyota = Car()\n",
    "hyundai = Car()\n",
    "honda = Car()\n",
    "\n",
    "print(toyota.fuel)\n",
    "\n",
    "\n",
    "#Four different properties\n",
    "\n",
    "class Car():\n",
    "    time_travel = \"88 Miles per hour Marty!\"\n",
    "    wheels = 4\n",
    "    windows = \"they're there\"\n",
    "    color = \"red\"\n",
    "    \n",
    "mystery_machine = Car()\n",
    "delorean = Car()\n",
    "ferrari = Car()\n",
    "\n",
    "print(delorean.time_travel)\n",
    "\n"
   ]
  },
  {
   "cell_type": "markdown",
   "metadata": {},
   "source": [
    "## The \\__init\\__() Method <br>\n",
    "<p>This method is used in almost every created class, and called only once upon the creation of the class instance. This method will initialize all variables needed for the object.</p>"
   ]
  },
  {
   "cell_type": "code",
   "execution_count": 20,
   "metadata": {},
   "outputs": [
    {
     "name": "stdout",
     "output_type": "stream",
     "text": [
      "4\n",
      "3\n",
      "4.7L\n",
      "4.7L\n",
      "4\n",
      "red\n",
      "4.7L\n",
      "3\n",
      "green\n",
      "4.7L\n"
     ]
    }
   ],
   "source": [
    "class Car():\n",
    "    engine = \"4.7L\"\n",
    "    \n",
    "    # Constructor __init__\n",
    "    def __init__(self, color, num_of_wheels=4):\n",
    "        self.wheels = num_of_wheels #instance attributes\n",
    "        self.color = color #instance attributes\n",
    "\n",
    "ford = Car(\"red\")\n",
    "trike = Car(\"green\", 3)\n",
    "\n",
    "print(ford.wheels)\n",
    "print(trike.wheels)\n",
    "print(ford.engine)\n",
    "print(trike.engine)\n",
    "\n",
    "my_cars = [ford, trike]\n",
    "\n",
    "for car in my_cars:\n",
    "    print(car.wheels)\n",
    "    print(car.color)\n",
    "    print(car.engine)"
   ]
  },
  {
   "cell_type": "markdown",
   "metadata": {},
   "source": [
    "##### The 'self' Attribute <br>\n",
    "<p>This attribute is required to keep track of specific instance's attributes. Without the self attribute, the program would not know how to reference or keep track of an instance's attributes.</p>"
   ]
  },
  {
   "cell_type": "code",
   "execution_count": null,
   "metadata": {},
   "outputs": [],
   "source": [
    "# see above"
   ]
  },
  {
   "cell_type": "markdown",
   "metadata": {},
   "source": [
    "## Class Attributes <br>\n",
    "<p>While variables are inside of a class, they are referred to as attributes and not variables. When someone says 'attribute' you know they're speaking about a class. Attributes can be initialized through the init method, or outside of it.</p>"
   ]
  },
  {
   "cell_type": "markdown",
   "metadata": {},
   "source": [
    "##### Initializing Attributes"
   ]
  },
  {
   "cell_type": "code",
   "execution_count": null,
   "metadata": {},
   "outputs": [],
   "source": [
    "# see above"
   ]
  },
  {
   "cell_type": "markdown",
   "metadata": {},
   "source": [
    "##### Accessing Class Attributes"
   ]
  },
  {
   "cell_type": "code",
   "execution_count": null,
   "metadata": {
    "scrolled": true
   },
   "outputs": [],
   "source": [
    "# See Above"
   ]
  },
  {
   "cell_type": "markdown",
   "metadata": {},
   "source": [
    "##### Setting Defaults for Attributes"
   ]
  },
  {
   "cell_type": "code",
   "execution_count": 18,
   "metadata": {},
   "outputs": [
    {
     "name": "stdout",
     "output_type": "stream",
     "text": [
      "Honda has 4 wheels and is the color Blue\n",
      "Jeep hass 8 wheels and is the color Green\n"
     ]
    }
   ],
   "source": [
    "class Car():\n",
    "    engine = \"4.7L\"\n",
    "    \n",
    "    def __init__(self,wheels, color=\"Blue\"):\n",
    "        self.wheels = wheels\n",
    "        self.color = color\n",
    "    \n",
    "honda = Car(4)\n",
    "jeep = Car(8,\"Green\")\n",
    "\n",
    "print(f\"Honda has {honda.wheels} wheels and is the color {honda.color}\")\n",
    "print(f\"Jeep hass {jeep.wheels} wheels and is the color {jeep.color}\")"
   ]
  },
  {
   "cell_type": "markdown",
   "metadata": {},
   "source": [
    "##### Changing Class Attributes <br>\n",
    "<p>Keep in mind there are global class attributes and then there are attributes only available to each class instance which won't effect other classes.</p>"
   ]
  },
  {
   "cell_type": "code",
   "execution_count": 17,
   "metadata": {
    "scrolled": true
   },
   "outputs": [
    {
     "name": "stdout",
     "output_type": "stream",
     "text": [
      "2.0L\n",
      "1.5L\n"
     ]
    }
   ],
   "source": [
    "#Car.engine #works because it is a class attr\n",
    "#Car.wheels #doesn't work because it is an instance varible\n",
    "\n",
    "#Changing the class variable on an instance\n",
    "trike.engine = \"2.0L\"\n",
    "print(trike.engine)\n",
    "print(ford.engine)"
   ]
  },
  {
   "cell_type": "code",
   "execution_count": 13,
   "metadata": {},
   "outputs": [
    {
     "data": {
      "text/plain": [
       "'1.5L'"
      ]
     },
     "execution_count": 13,
     "metadata": {},
     "output_type": "execute_result"
    }
   ],
   "source": [
    "# change the class variable across all cars (will not change prev. declared instances but will change future instances)\n",
    "Car.engine = \"1.5L\"\n",
    "trike.engine\n",
    "new_car = Car(\"yellow\")\n",
    "new_car.engine"
   ]
  },
  {
   "cell_type": "code",
   "execution_count": null,
   "metadata": {},
   "outputs": [],
   "source": [
    "car.engine #access class attribute"
   ]
  },
  {
   "cell_type": "code",
   "execution_count": 21,
   "metadata": {},
   "outputs": [
    {
     "name": "stdout",
     "output_type": "stream",
     "text": [
      "red\n",
      "purple\n"
     ]
    }
   ],
   "source": [
    "# change an instance attribute\n",
    "\n",
    "print(ford.color)\n",
    "ford.color=\"purple\"\n",
    "print(ford.color)"
   ]
  },
  {
   "cell_type": "code",
   "execution_count": 25,
   "metadata": {},
   "outputs": [
    {
     "name": "stdout",
     "output_type": "stream",
     "text": [
      "True\n"
     ]
    }
   ],
   "source": [
    "# add an instance variable\n",
    "ford.is_truck = True\n",
    "print(ford.is_truck)"
   ]
  },
  {
   "cell_type": "code",
   "execution_count": 23,
   "metadata": {},
   "outputs": [],
   "source": [
    "Car.has_sun_roof = False\n"
   ]
  },
  {
   "cell_type": "code",
   "execution_count": 24,
   "metadata": {},
   "outputs": [
    {
     "data": {
      "text/plain": [
       "False"
      ]
     },
     "execution_count": 24,
     "metadata": {},
     "output_type": "execute_result"
    }
   ],
   "source": [
    "# add a class attribute to new instances\n",
    "new_car1 = Car('cyan')\n",
    "new_car1.has_sun_roof"
   ]
  },
  {
   "cell_type": "markdown",
   "metadata": {},
   "source": [
    "##### In-Class Exercise #2 - Add a doors and seats attribute to your 'Car' class then print out two different instances with different doors and seats"
   ]
  },
  {
   "cell_type": "code",
   "execution_count": 29,
   "metadata": {},
   "outputs": [
    {
     "name": "stdout",
     "output_type": "stream",
     "text": [
      "gas\n",
      "hybrid\n",
      "2\n",
      "4\n"
     ]
    }
   ],
   "source": [
    "class Car():\n",
    "    color = \"red\"\n",
    "    wheels = 4\n",
    "    fuel = \"gas\"\n",
    "    go = \"it will go-go\"\n",
    "    doors = 2\n",
    "    seats = 5\n",
    "\n",
    "toyota = Car()\n",
    "hyundai = Car()\n",
    "honda = Car()\n",
    "\n",
    "print(toyota.fuel)\n",
    "toyota.fuel = \"hybrid\"\n",
    "print(toyota.fuel)\n",
    "print(honda.doors)\n",
    "honda.doors = 4\n",
    "print(honda.doors)\n",
    "\n",
    "# CLASS EXAMPLE FROM KYLE\n",
    "class Car():\n",
    "    engine = \"4.7L\" #Atrribute class\n",
    "    # Construction\n",
    "    def __init__(self, seats=5, doors=4):\n",
    "        self.seats = seats ##Instance Attribute\n",
    "        self.doors = doors\n",
    "benz_coup = Car(2, 2)\n",
    "school_bus = Car(16, 1)\n",
    "print(benz_coup.seats)\n",
    "print(benz_coup.doors)\n",
    "print(school_bus.doors)\n",
    "print(school_bus.seats)"
   ]
  },
  {
   "cell_type": "markdown",
   "metadata": {},
   "source": [
    "## Instance Methods <br>\n",
    "<p>While inside of a class, functions are referred to as 'methods'. If you hear someone mention methods, they're speaking about classes. Methods are essentially functions, but only callable on the instances of a class.</p>"
   ]
  },
  {
   "cell_type": "markdown",
   "metadata": {},
   "source": [
    "##### Creating"
   ]
  },
  {
   "cell_type": "code",
   "execution_count": 9,
   "metadata": {},
   "outputs": [],
   "source": [
    "class Car():\n",
    "    def __init__(self, wheels, color, seats):\n",
    "        self.wheels = wheels\n",
    "        self.color = color\n",
    "        self.seats = seats\n",
    "        self.has_sunroof = False\n",
    "        \n",
    "    def drive(self):\n",
    "        print(\"Vrrrrooooooomm!!!!\")\n",
    "    \n",
    "    def set_color(self, new_color):\n",
    "        self.color = new_color\n",
    "        \n",
    "    def describe(self):\n",
    "        print(f\"The car is {self.color} with {self.seats} seats and {self.wheels} wheels\")\n",
    "    \n",
    "    def add_seats(self):\n",
    "        self.seats+=1\n",
    "        "
   ]
  },
  {
   "cell_type": "code",
   "execution_count": 7,
   "metadata": {},
   "outputs": [
    {
     "name": "stdout",
     "output_type": "stream",
     "text": [
      "{'wheels': 4, 'color': 'red', 'seats': 8, 'has_sunroof': False}\n"
     ]
    }
   ],
   "source": [
    "chevy = Car(4,\"red\",8)\n",
    "print(chevy.__dict__)"
   ]
  },
  {
   "cell_type": "code",
   "execution_count": 10,
   "metadata": {
    "scrolled": true
   },
   "outputs": [
    {
     "name": "stdout",
     "output_type": "stream",
     "text": [
      "Vrrrrooooooomm!!!!\n",
      "The car is Green with 8 seats and 4 wheels\n",
      "The car is Green with 8 seats and 4 wheels\n"
     ]
    },
    {
     "ename": "AttributeError",
     "evalue": "'Car' object has no attribute 'add_seats'",
     "output_type": "error",
     "traceback": [
      "\u001b[1;31m---------------------------------------------------------------------------\u001b[0m",
      "\u001b[1;31mAttributeError\u001b[0m                            Traceback (most recent call last)",
      "\u001b[1;32m~\\AppData\\Local\\Temp/ipykernel_41488/972953027.py\u001b[0m in \u001b[0;36m<module>\u001b[1;34m\u001b[0m\n\u001b[0;32m      3\u001b[0m \u001b[0mchevy\u001b[0m\u001b[1;33m.\u001b[0m\u001b[0mset_color\u001b[0m\u001b[1;33m(\u001b[0m\u001b[1;34m\"Green\"\u001b[0m\u001b[1;33m)\u001b[0m\u001b[1;33m\u001b[0m\u001b[1;33m\u001b[0m\u001b[0m\n\u001b[0;32m      4\u001b[0m \u001b[0mchevy\u001b[0m\u001b[1;33m.\u001b[0m\u001b[0mdescribe\u001b[0m\u001b[1;33m(\u001b[0m\u001b[1;33m)\u001b[0m\u001b[1;33m\u001b[0m\u001b[1;33m\u001b[0m\u001b[0m\n\u001b[1;32m----> 5\u001b[1;33m \u001b[0mchevy\u001b[0m\u001b[1;33m.\u001b[0m\u001b[0madd_seats\u001b[0m\u001b[1;33m(\u001b[0m\u001b[1;33m)\u001b[0m\u001b[1;33m\u001b[0m\u001b[1;33m\u001b[0m\u001b[0m\n\u001b[0m\u001b[0;32m      6\u001b[0m \u001b[0mchevy\u001b[0m\u001b[1;33m.\u001b[0m\u001b[0mdescribe\u001b[0m\u001b[1;33m(\u001b[0m\u001b[1;33m)\u001b[0m\u001b[1;33m\u001b[0m\u001b[1;33m\u001b[0m\u001b[0m\n",
      "\u001b[1;31mAttributeError\u001b[0m: 'Car' object has no attribute 'add_seats'"
     ]
    }
   ],
   "source": [
    "chevy.drive()\n",
    "chevy.describe()\n",
    "chevy.set_color(\"Green\")\n",
    "chevy.describe()\n",
    "chevy.add_seats()\n",
    "chevy.describe()\n"
   ]
  },
  {
   "cell_type": "code",
   "execution_count": 11,
   "metadata": {},
   "outputs": [
    {
     "name": "stdout",
     "output_type": "stream",
     "text": [
      "Vrrrrooooooomm!!!!\n"
     ]
    }
   ],
   "source": [
    "Car.drive(chevy) # WE DON'T DO THIS"
   ]
  },
  {
   "cell_type": "markdown",
   "metadata": {},
   "source": [
    "##### Calling"
   ]
  },
  {
   "cell_type": "code",
   "execution_count": 41,
   "metadata": {},
   "outputs": [
    {
     "name": "stdout",
     "output_type": "stream",
     "text": [
      "Vrrrrooooooomm!!!!\n",
      "The car is red with 8 seats and 4 wheels\n",
      "The car is green with 8 seats and 4 wheels\n",
      "Vrrrrooooooomm!!!!\n",
      "The car is blue with 2 seats and 2 wheels\n",
      "The car is Aqua with 2 seats and 2 wheels\n"
     ]
    }
   ],
   "source": [
    "chevy = Car(4, \"red\", 8)\n",
    "chevy.drive()\n",
    "chevy.describe()\n",
    "chevy.set_color(\"green\")\n",
    "chevy.describe()\n",
    "\n",
    "\n",
    "honda = Car(2,\"blue\",2)\n",
    "honda.drive()\n",
    "honda.describe()\n",
    "honda.set_color(\"Aqua\")\n",
    "honda.describe()"
   ]
  },
  {
   "cell_type": "code",
   "execution_count": 42,
   "metadata": {},
   "outputs": [
    {
     "name": "stdout",
     "output_type": "stream",
     "text": [
      "Vrrrrooooooomm!!!!\n",
      "The car is Aqua with 2 seats and 2 wheels\n",
      "Vrrrrooooooomm!!!!\n",
      "The car is green with 8 seats and 4 wheels\n"
     ]
    }
   ],
   "source": [
    "car_list=[honda, chevy]\n",
    "\n",
    "for car in car_list:\n",
    "    car.drive()\n",
    "    car.describe()"
   ]
  },
  {
   "cell_type": "markdown",
   "metadata": {},
   "source": [
    "##### Modifying an Attribute's Value Through a Method"
   ]
  },
  {
   "cell_type": "code",
   "execution_count": null,
   "metadata": {},
   "outputs": [],
   "source": [
    "#above"
   ]
  },
  {
   "cell_type": "markdown",
   "metadata": {},
   "source": [
    "##### Incrementing an Attribute's Value Through a Method"
   ]
  },
  {
   "cell_type": "code",
   "execution_count": 44,
   "metadata": {},
   "outputs": [
    {
     "name": "stdout",
     "output_type": "stream",
     "text": [
      "The car is Aqua with 2 seats and 2 wheels\n",
      "The car is Aqua with 3 seats and 2 wheels\n"
     ]
    }
   ],
   "source": [
    "honda.describe()\n",
    "honda.add_seat()\n",
    "honda.describe()"
   ]
  },
  {
   "cell_type": "markdown",
   "metadata": {},
   "source": [
    "##### In-Class Exercise #3 - Add a method that takes in three parameters of year, doors and seats and prints out a formatted print statement with make, model, year, seats, and doors"
   ]
  },
  {
   "cell_type": "code",
   "execution_count": 19,
   "metadata": {},
   "outputs": [
    {
     "name": "stdout",
     "output_type": "stream",
     "text": [
      "This car is a 2021 Mazda CX-5 and has 4 doors and 5 seats.\n",
      "This car is a 1991 Ford POS and has 2 doors and 4 seats.\n",
      "Mazda CX-5 is better than Ford POS.\n",
      "Mazda CX-5 is better than Ford POS.\n"
     ]
    }
   ],
   "source": [
    "# Create class with 2 parameters inside of the __init__ which are make and model\n",
    "# Inside of the Car class create a method that has 4 parameter in total (self,year,door,seats)\n",
    "# Output: This car is from 2019 and is a Ford Expolorer and has 4 doors and 5 seats\n",
    "\n",
    "class Car():\n",
    "    engine = \"4.7L\"\n",
    "    \n",
    "    def __init__(self, make, model):\n",
    "        self.make = make\n",
    "        self.model = model\n",
    "        self.year = None\n",
    "        self.doors = None\n",
    "        self.seats = None\n",
    "        \n",
    "    def add_details(self, year, doors, seats):\n",
    "        self.year = year\n",
    "        self.doors = doors\n",
    "        self.seats = seats\n",
    "        \n",
    "    def describe(self):\n",
    "        print(f\"This car is a {self.year} {self.make} {self.model} and has {self.doors} doors and {self.seats} seats.\")\n",
    "\n",
    "    @classmethod\n",
    "    def which_is_better(cls, car1, car2):\n",
    "        if car1.year > car2.year:\n",
    "            print(f'{car1.make} {car1.model} is better than {car2.make} {car2.model}.')\n",
    "        else:\n",
    "            print(f'{car1.make} {car1.model} is worse than {car2.make} {car2.model}.')\n",
    "\n",
    "my_car = Car(\"Mazda\", \"CX-5\")\n",
    "my_car.add_details(2021, 4, 5)\n",
    "my_car.describe()\n",
    "\n",
    "alex_car = Car(\"Ford\", \"POS\")\n",
    "alex_car.add_details(1991,2,4)\n",
    "alex_car.describe()\n",
    "\n",
    "Car.which_is_better(my_car, alex_car)\n",
    "alex_car.which_is_better(my_car, alex_car) #Can also do this..."
   ]
  },
  {
   "cell_type": "markdown",
   "metadata": {},
   "source": [
    "## Inheritance <br>\n",
    "<p>You can create a child-parent relationship between two classes by using inheritance. What this allows you to do is have overriding methods, but also inherit traits from the parent class. Think of it as an actual parent and child, the child will inherit the parent's genes, as will the classes in OOP</p>"
   ]
  },
  {
   "cell_type": "markdown",
   "metadata": {},
   "source": [
    "##### Syntax for Inheriting from a Parent Class"
   ]
  },
  {
   "cell_type": "code",
   "execution_count": 23,
   "metadata": {
    "scrolled": true
   },
   "outputs": [
    {
     "name": "stdout",
     "output_type": "stream",
     "text": [
      "the dog has 15 m/s speed and 9.8 in accelration and is a Black Lab\n",
      "BARK!!!!!!\n",
      "galloping\n",
      "Some Generic Animal Sound\n",
      "galloping\n"
     ]
    }
   ],
   "source": [
    "#parent\n",
    "class Animal():\n",
    "    acc = 9.8   #class attribute\n",
    "    \n",
    "    def __init__(self, name, species, legs=4):\n",
    "        self.name = name\n",
    "        self.species = species\n",
    "        self.legs = legs\n",
    "    \n",
    "    def speak(self):\n",
    "        print(\"Some Generic Animal Sound\")\n",
    "        \n",
    "    def run(self):\n",
    "        print(\"galloping\")\n",
    "        \n",
    "\n",
    "\n",
    "#child\n",
    "class Dog(Animal):\n",
    "    speed = 15\n",
    "    \n",
    "    def __init__(self, is_house_trained, name, species, legs=4):\n",
    "        super().__init__(name, species, legs)\n",
    "        self.is_house_trained = is_house_trained #special to Dogs\n",
    "    \n",
    "    def describe(self):\n",
    "        print(f\"the dog has {self.speed} m/s speed and {self.acc} in accelration and is a {self.species}\")\n",
    "        \n",
    "        \n",
    "        \n",
    "    #Overriding method ... this will override the method in the parent class\n",
    "    def speak(self):\n",
    "        print(\"BARK!!!!!!\")\n",
    "        \n",
    "nala = Dog(True, 'Nala', 'Black Lab')\n",
    "nala.describe()\n",
    "nala.speak()\n",
    "nala.run()\n",
    "\n",
    "zebra = Animal('Zee', 'Zebra')\n",
    "zebra.speak()\n",
    "zebra.run()"
   ]
  },
  {
   "cell_type": "code",
   "execution_count": 24,
   "metadata": {},
   "outputs": [
    {
     "data": {
      "text/plain": [
       "False"
      ]
     },
     "execution_count": 24,
     "metadata": {},
     "output_type": "execute_result"
    }
   ],
   "source": [
    "isinstance(\"hey\", int)"
   ]
  },
  {
   "cell_type": "code",
   "execution_count": 25,
   "metadata": {},
   "outputs": [
    {
     "data": {
      "text/plain": [
       "True"
      ]
     },
     "execution_count": 25,
     "metadata": {},
     "output_type": "execute_result"
    }
   ],
   "source": [
    "isinstance(nala, Dog)"
   ]
  },
  {
   "cell_type": "code",
   "execution_count": 26,
   "metadata": {},
   "outputs": [
    {
     "data": {
      "text/plain": [
       "True"
      ]
     },
     "execution_count": 26,
     "metadata": {},
     "output_type": "execute_result"
    }
   ],
   "source": [
    "isinstance(nala, Animal)"
   ]
  },
  {
   "cell_type": "code",
   "execution_count": 66,
   "metadata": {},
   "outputs": [
    {
     "name": "stdout",
     "output_type": "stream",
     "text": [
      "The Mutt is a mix of Black Lab and pointer\n"
     ]
    }
   ],
   "source": [
    "#grandchild\n",
    "class Mutt(Dog):\n",
    "    def __init__(self, second_species, is_house_trained, name, species, leg=4):\n",
    "        super().__init__(is_house_trained, name, species, leg)\n",
    "        self.second_species = second_species\n",
    "    \n",
    "    def describe(self):\n",
    "        print(f\"The Mutt is a mix of {self.species} and {self.second_species}\")\n",
    "        \n",
    "nala = Mutt(\"pointer\",True,\"Nala\",\"Black Lab\")\n",
    "nala.describe()"
   ]
  },
  {
   "cell_type": "markdown",
   "metadata": {},
   "source": [
    "##### The \\__init\\__() Method for a Child Class - super()"
   ]
  },
  {
   "cell_type": "code",
   "execution_count": null,
   "metadata": {
    "scrolled": true
   },
   "outputs": [],
   "source": [
    "# See Above"
   ]
  },
  {
   "cell_type": "markdown",
   "metadata": {},
   "source": [
    "##### Defining Attributes and Methods for the Child Class"
   ]
  },
  {
   "cell_type": "code",
   "execution_count": null,
   "metadata": {},
   "outputs": [],
   "source": [
    "# See Above"
   ]
  },
  {
   "cell_type": "markdown",
   "metadata": {},
   "source": [
    "##### Method Overriding"
   ]
  },
  {
   "cell_type": "code",
   "execution_count": null,
   "metadata": {},
   "outputs": [],
   "source": [
    "# See Above"
   ]
  },
  {
   "cell_type": "code",
   "execution_count": 28,
   "metadata": {},
   "outputs": [
    {
     "name": "stdout",
     "output_type": "stream",
     "text": [
      "the mutt is a mix of Pitbull and boxer\n",
      "galloping\n",
      "BARK!!!!!!\n"
     ]
    }
   ],
   "source": [
    "class Mutt(Dog):\n",
    "    def __init__(self, second_species, is_house_trained, name, species, legs=4):\n",
    "        super().__init__(is_house_trained, name, species, legs=4)\n",
    "        self.second_species = second_species\n",
    "        \n",
    "    def describe(self):\n",
    "        print(f\"the mutt is a mix of {self.species} and {self.second_species}\")\n",
    "              \n",
    "tippi = Mutt(\"boxer\", True, \"Tippi\", \"Pitbull\")\n",
    "tippi.describe()\n",
    "tippi.run()\n",
    "tippi.speak()"
   ]
  },
  {
   "cell_type": "code",
   "execution_count": 29,
   "metadata": {
    "scrolled": true
   },
   "outputs": [
    {
     "data": {
      "text/plain": [
       "['__class__',\n",
       " '__delattr__',\n",
       " '__dict__',\n",
       " '__dir__',\n",
       " '__doc__',\n",
       " '__eq__',\n",
       " '__format__',\n",
       " '__ge__',\n",
       " '__getattribute__',\n",
       " '__gt__',\n",
       " '__hash__',\n",
       " '__init__',\n",
       " '__init_subclass__',\n",
       " '__le__',\n",
       " '__lt__',\n",
       " '__module__',\n",
       " '__ne__',\n",
       " '__new__',\n",
       " '__reduce__',\n",
       " '__reduce_ex__',\n",
       " '__repr__',\n",
       " '__setattr__',\n",
       " '__sizeof__',\n",
       " '__str__',\n",
       " '__subclasshook__',\n",
       " '__weakref__',\n",
       " 'acc',\n",
       " 'describe',\n",
       " 'run',\n",
       " 'speak',\n",
       " 'speed']"
      ]
     },
     "execution_count": 29,
     "metadata": {},
     "output_type": "execute_result"
    }
   ],
   "source": [
    "dir(Dog)"
   ]
  },
  {
   "cell_type": "code",
   "execution_count": null,
   "metadata": {},
   "outputs": [],
   "source": []
  },
  {
   "cell_type": "markdown",
   "metadata": {},
   "source": [
    "## Classes as Attributes <br>\n",
    "<p>Classes can also be used as attributes within another class. This is useful in situations where you need to keep variables locally stored, instead of globally stored.</p>"
   ]
  },
  {
   "cell_type": "code",
   "execution_count": 36,
   "metadata": {},
   "outputs": [
    {
     "name": "stdout",
     "output_type": "stream",
     "text": [
      "2020 Tesla 7.8 6 20\n",
      "recharging...\n"
     ]
    }
   ],
   "source": [
    "class ElectricCar():\n",
    "    def __init__(self, year, make, a_battery):\n",
    "        self.year = year\n",
    "        self.make = make\n",
    "        self.battery = a_battery\n",
    "        \n",
    "    def describe(self):\n",
    "        print(self.year, self.make, self.battery.volts, self.battery.time, self.battery.cells)\n",
    "    \n",
    "class Battery():\n",
    "    volts = 7.8\n",
    "    def __init__(self, cells):\n",
    "        self.cells = cells\n",
    "        self.time = 6\n",
    "        self.var = \"my_battery\"\n",
    "        \n",
    "    def recharge(self):\n",
    "        print('recharging...')\n",
    "        \n",
    "tesla = ElectricCar(2020, \"Tesla\", Battery(20))\n",
    "tesla.describe()\n",
    "tesla.battery.recharge()"
   ]
  },
  {
   "cell_type": "code",
   "execution_count": 40,
   "metadata": {},
   "outputs": [
    {
     "name": "stdout",
     "output_type": "stream",
     "text": [
      "What do you want to do? Run Rant or Quit?run\n",
      "Patrick says huff and puff boy I am a fat slob\n",
      "What do you want to do? Run Rant or Quit?rant\n",
      "Patrick says Epstein didn't kill himself!!\n",
      "What do you want to do? Run Rant or Quit?quit\n"
     ]
    }
   ],
   "source": [
    "class Person():\n",
    "    def __init__(self, name, age):\n",
    "        self.name = name\n",
    "        self.age = age\n",
    "        \n",
    "    def run(self):\n",
    "        print(f\"{self.name} says huff and puff boy I am a fat slob\")\n",
    "        \n",
    "    def rant(self):\n",
    "        print(f\"{self.name} says Epstein didn't kill himself!!\")\n",
    "        \n",
    "class UI():\n",
    "    def __init__(self, person):\n",
    "        self.person = person\n",
    "        \n",
    "    def run_program(self):\n",
    "        while True:\n",
    "            response = input(\"What do you want to do? Run Rant or Quit?\")\n",
    "            if response.lower() == 'quit':\n",
    "                break\n",
    "            elif response.lower() == \"run\":\n",
    "                self.person.run()\n",
    "            elif response.lower() == 'rant':\n",
    "                self.person.rant()\n",
    "                \n",
    "# Driver Code\n",
    "patrick = Person(\"Patrick\", 24)\n",
    "ui = UI(patrick)\n",
    "ui.run_program()\n",
    "\n",
    "\n"
   ]
  },
  {
   "cell_type": "code",
   "execution_count": 42,
   "metadata": {},
   "outputs": [],
   "source": [
    "from datetime import datetime as dt, timedelta\n",
    "before = dt.now()"
   ]
  },
  {
   "cell_type": "code",
   "execution_count": 43,
   "metadata": {},
   "outputs": [
    {
     "data": {
      "text/plain": [
       "datetime.timedelta(days=-1, seconds=86341, microseconds=116341)"
      ]
     },
     "execution_count": 43,
     "metadata": {},
     "output_type": "execute_result"
    }
   ],
   "source": [
    "before - dt.now()"
   ]
  },
  {
   "cell_type": "code",
   "execution_count": 44,
   "metadata": {},
   "outputs": [
    {
     "name": "stdout",
     "output_type": "stream",
     "text": [
      "brushing\n",
      "run on 4 legs\n"
     ]
    }
   ],
   "source": [
    "class FourLegs:\n",
    "    @classmethod\n",
    "    def run(cls):\n",
    "        print(\"run on 4 legs\")\n",
    "\n",
    "class Furry:\n",
    "    @classmethod\n",
    "    def brush(cls):\n",
    "        print(\"brushing\")\n",
    "        \n",
    "    @classmethod\n",
    "    def run(cls):\n",
    "        print(\"I have no legs!!!!\")\n",
    "        \n",
    "class Dog(FourLegs, Furry): #the first class will when in cases where methods are in both classes\n",
    "    def __init__(self):\n",
    "        super().__init__()\n",
    "        \n",
    "buster = Dog()\n",
    "buster.brush()\n",
    "buster.run()"
   ]
  },
  {
   "cell_type": "markdown",
   "metadata": {},
   "source": [
    "# Exercises"
   ]
  },
  {
   "cell_type": "markdown",
   "metadata": {},
   "source": [
    "### Exercise 1 - Turn the shopping cart program from yesterday into an object-oriented program"
   ]
  },
  {
   "cell_type": "code",
   "execution_count": null,
   "metadata": {},
   "outputs": [
    {
     "name": "stdout",
     "output_type": "stream",
     "text": [
      "What would you like to do? Add, Remove, Show, Clear, or Quit? add\n",
      "What item would you like to add to your cart?add\n",
      "Add has been added to your cart.\n",
      "What would you like to do? Add, Remove, Show, Clear, or Quit? add\n",
      "What item would you like to add to your cart?apple\n",
      "Apple has been added to your cart.\n",
      "What would you like to do? Add, Remove, Show, Clear, or Quit? add\n",
      "What item would you like to add to your cart?break\n",
      "Break has been added to your cart.\n",
      "What would you like to do? Add, Remove, Show, Clear, or Quit? show\n",
      "['add', 'apple', 'break']\n",
      "What would you like to do? Add, Remove, Show, Clear, or Quit? remove\n",
      "What item would you like to remove from your cartapple\n",
      "Apple has been removed from your cart.\n",
      "What would you like to do? Add, Remove, Show, Clear, or Quit? remove\n",
      "What item would you like to remove from your cartadd\n",
      "Add has been removed from your cart.\n",
      "What would you like to do? Add, Remove, Show, Clear, or Quit? remove\n",
      "What item would you like to remove from your cartbreak\n",
      "Break has been removed from your cart.\n",
      "What would you like to do? Add, Remove, Show, Clear, or Quit? show\n",
      "[]\n",
      "Cart Empty\n",
      "What would you like to do? Add, Remove, Show, Clear, or Quit? add\n",
      "What item would you like to add to your cart?apple\n",
      "Apple has been added to your cart.\n",
      "What would you like to do? Add, Remove, Show, Clear, or Quit? show\n",
      "['apple']\n",
      "What would you like to do? Add, Remove, Show, Clear, or Quit? add\n",
      "What item would you like to add to your cart?break\n",
      "Break has been added to your cart.\n",
      "What would you like to do? Add, Remove, Show, Clear, or Quit? clear\n",
      "All items have been removed from your cart.\n",
      "What would you like to do? Add, Remove, Show, Clear, or Quit? show\n",
      "[]\n",
      "Cart Empty\n"
     ]
    }
   ],
   "source": [
    "# Create a class called cart that retains items and has methods to add, remove, and show\n",
    "\n",
    "class Cart():\n",
    "    def __init__(self):\n",
    "        self.cart = []\n",
    "\n",
    "    def show(self):\n",
    "        print(self.cart)\n",
    "        if not self.cart:\n",
    "            print(\"Cart Empty\")\n",
    "                \n",
    "    def add(self):\n",
    "        item = input(\"What item would you like to add to your cart?\").strip().lower()\n",
    "        self.cart.append(item)\n",
    "        print(f\"{item.title()} has been added to your cart.\")\n",
    "        \n",
    "    def remove(self):\n",
    "        item = input(\"What item would you like to remove from your cart\").strip().lower()\n",
    "        self.cart.remove(item)\n",
    "        print(f\"{item.title()} has been removed from your cart.\")\n",
    "        \n",
    "    def clear(self):\n",
    "        self.cart.clear()\n",
    "        print(\"All items have been removed from your cart.\")\n",
    "                                  \n",
    "    def run_program(self):\n",
    "        while True:\n",
    "            response = input(\"What would you like to do? Add, Remove, Show, Clear, or Quit? \")\n",
    "            if response.lower().strip() == 'add':\n",
    "                self.add()\n",
    "            elif response.lower().strip() == 'remove':\n",
    "                self.remove()\n",
    "            elif response.lower().strip() == 'show':\n",
    "                self.show()\n",
    "            elif response.lower().strip() == 'clear':\n",
    "                self.clear()\n",
    "            elif response.lower().strip() == 'quit':\n",
    "                print(\"Thanks for shopping with us!\")\n",
    "                break\n",
    "            else:\n",
    "                print(\"Please select to add, remove, show, clear, or quit.\")\n",
    "                \n",
    "#Driver Code\n",
    "ui = Cart()\n",
    "ui.run_program()\n",
    "\n",
    "\n",
    "                "
   ]
  },
  {
   "cell_type": "markdown",
   "metadata": {},
   "source": [
    "### Exercise 2 - Write a Python class which has two methods get_String and print_String. get_String accept a string from the user and print_String print the string in upper case"
   ]
  },
  {
   "cell_type": "code",
   "execution_count": 16,
   "metadata": {},
   "outputs": [
    {
     "name": "stdout",
     "output_type": "stream",
     "text": [
      "What would you like to say? I really want to be excellent at programming!\n",
      "I REALLY WANT TO BE EXCELLENT AT PROGRAMMING!\n"
     ]
    }
   ],
   "source": [
    "class Parrot():\n",
    "    def __init__(self):\n",
    "        self.user_input = \"\"\n",
    "    \n",
    "    def get_String(self):\n",
    "        self.user_input = input(\"What would you like to say? \")\n",
    "           \n",
    "    def print_String(self):\n",
    "        print(self.user_input.upper())\n",
    "        \n",
    "        \n",
    "        \n",
    "#Driver Code\n",
    "user_input = Parrot\n",
    "user_input.get_String(user_input)\n",
    "user_input.print_String(user_input)\n"
   ]
  }
 ],
 "metadata": {
  "kernelspec": {
   "display_name": "Python 3 (ipykernel)",
   "language": "python",
   "name": "python3"
  },
  "language_info": {
   "codemirror_mode": {
    "name": "ipython",
    "version": 3
   },
   "file_extension": ".py",
   "mimetype": "text/x-python",
   "name": "python",
   "nbconvert_exporter": "python",
   "pygments_lexer": "ipython3",
   "version": "3.9.7"
  }
 },
 "nbformat": 4,
 "nbformat_minor": 2
}
